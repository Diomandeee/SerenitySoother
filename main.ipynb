{
 "cells": [
  {
   "cell_type": "code",
   "execution_count": 4,
   "metadata": {},
   "outputs": [],
   "source": [
    "import sqlite3\n",
    "\n"
   ]
  },
  {
   "cell_type": "code",
   "execution_count": 40,
   "metadata": {},
   "outputs": [
    {
     "name": "stdout",
     "output_type": "stream",
     "text": [
      "Tables in the database:\n",
      "users\n",
      "sessions\n",
      "hypnotherapy_scripts\n",
      "emotions\n",
      "goals\n",
      "notifications\n",
      "thoughts\n",
      "memories\n",
      "settings\n",
      "trading_cards\n",
      "achievements\n",
      "rewards\n",
      "scripts\n",
      "hypnotherapy_sessions\n",
      "progress\n",
      "sections\n",
      "scenes\n",
      "elements\n",
      "scene_element_association\n"
     ]
    }
   ],
   "source": [
    "db_name = \"serenity_soother.db\"\n",
    "\n",
    "# get a connection to the database\n",
    "conn = sqlite3.connect(db_name)\n",
    "\n",
    "# get a cursor object\n",
    "cursor = conn.cursor()\n",
    "\n",
    "# retrieve all the tables in the database\n",
    "cursor.execute(\"SELECT name FROM sqlite_master WHERE type='table';\")\n",
    "tables = cursor.fetchall()\n",
    "\n",
    "# print the tables\n",
    "print(\"Tables in the database:\")\n",
    "for table in tables:\n",
    "    print(table[0])\n",
    "\n",
    "# get the user table\n",
    "cursor.execute(\"SELECT * FROM sections;\")\n",
    "users = cursor.fetchall()\n"
   ]
  },
  {
   "cell_type": "code",
   "execution_count": 41,
   "metadata": {},
   "outputs": [
    {
     "data": {
      "text/plain": [
       "16"
      ]
     },
     "execution_count": 41,
     "metadata": {},
     "output_type": "execute_result"
    }
   ],
   "source": [
    "len(users)  "
   ]
  },
  {
   "cell_type": "code",
   "execution_count": 49,
   "metadata": {},
   "outputs": [
    {
     "data": {
      "text/plain": [
       "(9,\n",
       " 1,\n",
       " '**Part2: Symbolism of Turquoise and Anxiety**',\n",
       " 'Adorning this alcove is the striking hue of turquoise, representing a sanctuary of calm and communication. This color, with its restorative and serene essence, serves as a soothing counterbalance to the tumultuousness of anxiety, fostering an environment conducive to introspection.')"
      ]
     },
     "execution_count": 49,
     "metadata": {},
     "output_type": "execute_result"
    }
   ],
   "source": [
    "users[8]"
   ]
  },
  {
   "cell_type": "code",
   "execution_count": null,
   "metadata": {},
   "outputs": [],
   "source": []
  },
  {
   "cell_type": "code",
   "execution_count": null,
   "metadata": {},
   "outputs": [],
   "source": []
  }
 ],
 "metadata": {
  "kernelspec": {
   "display_name": ".venv",
   "language": "python",
   "name": "python3"
  },
  "language_info": {
   "codemirror_mode": {
    "name": "ipython",
    "version": 3
   },
   "file_extension": ".py",
   "mimetype": "text/x-python",
   "name": "python",
   "nbconvert_exporter": "python",
   "pygments_lexer": "ipython3",
   "version": "3.12.3"
  }
 },
 "nbformat": 4,
 "nbformat_minor": 2
}
